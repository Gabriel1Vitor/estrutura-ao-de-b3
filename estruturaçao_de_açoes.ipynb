{
  "cells": [
    {
      "cell_type": "code",
      "execution_count": null,
      "metadata": {
        "id": "mhf42euXl20b"
      },
      "outputs": [],
      "source": [
        "colap=[(2,10),(10,12),(12,24),(27,39),(56,69),(69,82),(82,95),(108,121),(152,170),(170,188)]\n",
        "name=[\"data\",\"codbdi\",\"sigla_açao\",\"nome_açao\",\"preco_aber\",\"preco_max\",\"preco_min\",\"preco_fec\",\"qtd_neg,\",\"volume_neg\"]\n",
        "\n",
        "\n",
        "b3=pd.read_fwf(\"/content/drive/MyDrive/COTAHIST_A2022.TXT\",colspecs=colap,names=name,skiprows=1)"
      ]
    },
    {
      "cell_type": "code",
      "execution_count": null,
      "metadata": {
        "id": "01r_WVaxlsMr"
      },
      "outputs": [],
      "source": [
        "\n",
        "import pandas as pd\n",
        "import numpy as np\n",
        "def read_file(path,name_file,year_file,type_file):\n",
        "  _file=f'{path}{name_file}{year_file}.{type_file}'\n",
        "  colap=[(2,10),(10,12),(12,24),(27,39),(56,69),(69,82),(82,95),(108,121),(152,170),(170,188)]\n",
        "  name=[\"data\",\"codbdi\",\"sigla_açao\",\"nome_açao\",\"preco_aber\",\"preco_max\",\"preco_min\",\"preco_fec\",\"qtd_neg,\",\"volume_neg\"]\n",
        "  b3=pd.read_fwf(_file,colspecs=colap,names=name,skiprows=1)\n",
        "  return b3"
      ]
    },
    {
      "cell_type": "code",
      "source": [
        "def filter_stocks(açoes):\n",
        "  açoes=b3[b3[\"codbdi\"]==2]\n",
        "  açoes=açoes.drop([\"codbdi\"],1)\n",
        "  return açoes\n",
        "fiis=b3[b3[\"codbdi\"]==12]\n",
        "fiis=fiis.drop([\"codbdi\"],1)"
      ],
      "metadata": {
        "colab": {
          "base_uri": "https://localhost:8080/"
        },
        "id": "j6ukwA3p5uim",
        "outputId": "50b943cd-6c48-4d1e-ee5b-9d02e9c18ed1"
      },
      "execution_count": null,
      "outputs": [
        {
          "output_type": "stream",
          "name": "stderr",
          "text": [
            "/usr/local/lib/python3.7/dist-packages/ipykernel_launcher.py:6: FutureWarning: In a future version of pandas all arguments of DataFrame.drop except for the argument 'labels' will be keyword-only\n",
            "  \n"
          ]
        }
      ]
    },
    {
      "cell_type": "code",
      "source": [
        "def perse_values(açoes):\n",
        "  açoes[\"data\"]=pd.to_datetime(açoes[\"data\"],format=\"%Y%m%d\")\n",
        "  açoes[\"preco_aber\"]=(açoes[\"preco_aber\"]/100).astype(float)\n",
        "  açoes[\"preco_max\"]=(açoes['preco_max']/100).astype(float)\n",
        "  açoes[\"preco_min\"]=(açoes['preco_min']/100).astype(float)\n",
        "  açoes['preco_fec']=(açoes[\"preco_fec\"]/100).astype(float)\n",
        "  return açoes"
      ],
      "metadata": {
        "id": "xMsRd-fA5u-V"
      },
      "execution_count": null,
      "outputs": []
    },
    {
      "cell_type": "code",
      "source": [
        "def concat_file(path,name_file,year_file,type_file,final_file):\n",
        "  for i ,y in enumerate(year_date):\n",
        "    açoes=read_file(path,name_file,y,type_file)\n",
        "    açoes=filter_stocks(açoes)\n",
        "    açoes=perse_values(açoes)\n",
        "    açoes=perse_date(açoes)\n",
        "    if i==0:\n",
        "      açoes_final=açoes\n",
        "    else:\n",
        "      açoes_final=pd.concat([açoes_final,açoes])\n",
        "\n",
        "  açoes_final.to_csv(f'{path}//{final_file}',index=False)"
      ],
      "metadata": {
        "id": "giJpf5w75vIU"
      },
      "execution_count": null,
      "outputs": []
    },
    {
      "cell_type": "markdown",
      "source": [
        "# Nova seção"
      ],
      "metadata": {
        "id": "mEPfpzxO8_oB"
      }
    },
    {
      "cell_type": "code",
      "source": [
        "year_date=[\"2022\"]\n",
        "path=f\"/content/drive/MyDrive/\"\n",
        "name_file=\"COTAHIST_A2022\"\n",
        "type_file=\"TXT\"\n",
        "final_file=\"all.ibovespa.csv\""
      ],
      "metadata": {
        "id": "iKrVt5ok5vQN"
      },
      "execution_count": null,
      "outputs": []
    }
  ],
  "metadata": {
    "colab": {
      "name": "estruturaçao-de-açoes.ipynb",
      "provenance": []
    },
    "kernelspec": {
      "display_name": "Python 3",
      "name": "python3"
    },
    "language_info": {
      "name": "python"
    }
  },
  "nbformat": 4,
  "nbformat_minor": 0
}